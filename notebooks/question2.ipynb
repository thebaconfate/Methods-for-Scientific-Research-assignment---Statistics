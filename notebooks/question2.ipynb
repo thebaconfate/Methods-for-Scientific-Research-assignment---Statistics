{
 "cells": [
  {
   "cell_type": "code",
   "execution_count": 1,
   "metadata": {},
   "outputs": [
    {
     "name": "stdout",
     "output_type": "stream",
     "text": [
      "Optimization terminated successfully.\n",
      "         Current function value: 0.543546\n",
      "         Iterations 6\n",
      "                           Logit Regression Results                           \n",
      "==============================================================================\n",
      "Dep. Variable:            Convergence   No. Observations:                  100\n",
      "Model:                          Logit   Df Residuals:                       98\n",
      "Method:                           MLE   Df Model:                            1\n",
      "Date:                Thu, 07 Dec 2023   Pseudo R-squ.:                  0.1329\n",
      "Time:                        05:04:14   Log-Likelihood:                -54.355\n",
      "converged:                       True   LL-Null:                       -62.687\n",
      "Covariance Type:            nonrobust   LLR p-value:                 4.460e-05\n",
      "==============================================================================\n",
      "                 coef    std err          z      P>|z|      [0.025      0.975]\n",
      "------------------------------------------------------------------------------\n",
      "Intercept     -4.1482      0.983     -4.221      0.000      -6.074      -2.222\n",
      "Complexity     0.0164      0.004      3.707      0.000       0.008       0.025\n",
      "==============================================================================\n"
     ]
    }
   ],
   "source": [
    "import pandas as pd\n",
    "from statsmodels.api import Logit\n",
    "df = pd.read_csv('datasets/Question2_4.txt', sep=\"\\t\", header=0)\n",
    "df['Intercept'] = 1\n",
    "grouped = df.groupby(df['Architecture'])\n",
    "arch1_independant = grouped.get_group('architecture 1')[['Intercept', 'Complexity']]\n",
    "arch1_dependant = grouped.get_group('architecture 1')['Convergence']\n",
    "\n",
    "arch_1_model = Logit(arch1_dependant, arch1_independant).fit()\n",
    "print(arch_1_model.summary())\n"
   ]
  },
  {
   "cell_type": "code",
   "execution_count": 2,
   "metadata": {},
   "outputs": [
    {
     "name": "stdout",
     "output_type": "stream",
     "text": [
      "Optimization terminated successfully.\n",
      "         Current function value: 0.570386\n",
      "         Iterations 5\n",
      "                           Logit Regression Results                           \n",
      "==============================================================================\n",
      "Dep. Variable:            Convergence   No. Observations:                  100\n",
      "Model:                          Logit   Df Residuals:                       98\n",
      "Method:                           MLE   Df Model:                            1\n",
      "Date:                Thu, 07 Dec 2023   Pseudo R-squ.:                  0.1471\n",
      "Time:                        05:04:14   Log-Likelihood:                -57.039\n",
      "converged:                       True   LL-Null:                       -66.875\n",
      "Covariance Type:            nonrobust   LLR p-value:                 9.192e-06\n",
      "==============================================================================\n",
      "                 coef    std err          z      P>|z|      [0.025      0.975]\n",
      "------------------------------------------------------------------------------\n",
      "Intercept     -3.7368      0.862     -4.334      0.000      -5.427      -2.047\n",
      "Complexity     0.0167      0.004      4.052      0.000       0.009       0.025\n",
      "==============================================================================\n"
     ]
    }
   ],
   "source": [
    "arch2_independant = grouped.get_group('architecture 2')[['Intercept', 'Complexity']]\n",
    "arch2_dependant = grouped.get_group('architecture 2')['Convergence']\n",
    "arch_2_model = Logit(arch2_dependant, arch2_independant).fit()\n",
    "print(arch_2_model.summary())"
   ]
  },
  {
   "cell_type": "code",
   "execution_count": 3,
   "metadata": {},
   "outputs": [
    {
     "name": "stdout",
     "output_type": "stream",
     "text": [
      "Intercept for Architecture 1: -4.148221916240643\n",
      "Intercept for Architecture 2: -3.736778485252126\n",
      "Complexity Coefficient for Architecture 1: 0.016417838620305145\n",
      "Complexity Coefficient for Architecture 2: 0.01669674290812019\n"
     ]
    }
   ],
   "source": [
    "print(\"Intercept for Architecture 1:\", arch_1_model.params['Intercept'])\n",
    "print(\"Intercept for Architecture 2:\", arch_2_model.params['Intercept'])\n",
    "print(\"Complexity Coefficient for Architecture 1:\", arch_1_model.params['Complexity'])\n",
    "print(\"Complexity Coefficient for Architecture 2:\", arch_2_model.params['Complexity'])"
   ]
  },
  {
   "cell_type": "code",
   "execution_count": 4,
   "metadata": {},
   "outputs": [
    {
     "name": "stdout",
     "output_type": "stream",
     "text": [
      "Complexity level at 50% probability for Architecture 1: 253\n",
      "Complexity level at 50% probability for Architecture 2: 224\n"
     ]
    }
   ],
   "source": [
    "from math import ceil\n",
    "complexity_arch_1 = ceil(-arch_1_model.params['Intercept'] / arch_1_model.params['Complexity'])\n",
    "complexity_arch_2 = ceil(-arch_2_model.params['Intercept'] / arch_2_model.params['Complexity'])\n",
    "print(\"Complexity level at 50% probability for Architecture 1:\", complexity_arch_1)\n",
    "print(\"Complexity level at 50% probability for Architecture 2:\", complexity_arch_2)"
   ]
  }
 ],
 "metadata": {
  "kernelspec": {
   "display_name": "venv",
   "language": "python",
   "name": "python3"
  },
  "language_info": {
   "codemirror_mode": {
    "name": "ipython",
    "version": 3
   },
   "file_extension": ".py",
   "mimetype": "text/x-python",
   "name": "python",
   "nbconvert_exporter": "python",
   "pygments_lexer": "ipython3",
   "version": "3.12.0"
  }
 },
 "nbformat": 4,
 "nbformat_minor": 2
}
