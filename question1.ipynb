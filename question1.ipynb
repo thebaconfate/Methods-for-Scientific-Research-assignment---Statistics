{
 "cells": [
  {
   "cell_type": "code",
   "execution_count": 4,
   "metadata": {},
   "outputs": [
    {
     "name": "stdout",
     "output_type": "stream",
     "text": [
      "    interface1  interface2\n",
      "0        42.37        64.5\n",
      "1        32.37        28.1\n",
      "2        44.03        45.8\n",
      "3        45.51        43.2\n",
      "4        34.34        38.2\n",
      "5        15.32        18.4\n",
      "6        23.18        20.7\n",
      "7        26.36        29.0\n",
      "8        30.76        30.3\n",
      "9        55.14        56.1\n",
      "10       40.50        38.2\n",
      "11       21.87        24.9\n",
      "12       25.07        19.4\n",
      "13       26.83        28.9\n",
      "14       26.25        33.8\n",
      "15       25.21        28.9\n",
      "16       33.10        35.2\n",
      "17       21.81        22.6\n",
      "18       34.48        34.5\n",
      "19       19.66        22.0\n"
     ]
    }
   ],
   "source": [
    "import pandas as pd\n",
    "\n",
    "df = pd.read_csv('datasets/Question1_1.txt', sep=\"\\t\", header=0)\n",
    "print(df)"
   ]
  }
 ],
 "metadata": {
  "kernelspec": {
   "display_name": "venv",
   "language": "python",
   "name": "python3"
  },
  "language_info": {
   "codemirror_mode": {
    "name": "ipython",
    "version": 3
   },
   "file_extension": ".py",
   "mimetype": "text/x-python",
   "name": "python",
   "nbconvert_exporter": "python",
   "pygments_lexer": "ipython3",
   "version": "3.12.0"
  }
 },
 "nbformat": 4,
 "nbformat_minor": 2
}
