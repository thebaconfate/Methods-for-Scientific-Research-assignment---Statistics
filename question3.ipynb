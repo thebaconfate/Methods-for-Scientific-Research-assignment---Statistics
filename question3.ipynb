{
 "cells": [
  {
   "cell_type": "markdown",
   "metadata": {},
   "source": [
    "# Question 3\n",
    "The dataset used in this question was Question3_3.txt.\n",
    "The data file contains the results of an experiment in which people's acceptance of robots of different degrees of realism is measured."
   ]
  },
  {
   "cell_type": "code",
   "execution_count": 1,
   "metadata": {},
   "outputs": [
    {
     "data": {
      "text/html": [
       "<div>\n",
       "<style scoped>\n",
       "    .dataframe tbody tr th:only-of-type {\n",
       "        vertical-align: middle;\n",
       "    }\n",
       "\n",
       "    .dataframe tbody tr th {\n",
       "        vertical-align: top;\n",
       "    }\n",
       "\n",
       "    .dataframe thead th {\n",
       "        text-align: right;\n",
       "    }\n",
       "</style>\n",
       "<table border=\"1\" class=\"dataframe\">\n",
       "  <thead>\n",
       "    <tr style=\"text-align: right;\">\n",
       "      <th></th>\n",
       "      <th>realism</th>\n",
       "      <th>acceptability</th>\n",
       "    </tr>\n",
       "  </thead>\n",
       "  <tbody>\n",
       "    <tr>\n",
       "      <th>count</th>\n",
       "      <td>100.000000</td>\n",
       "      <td>100.000000</td>\n",
       "    </tr>\n",
       "    <tr>\n",
       "      <th>mean</th>\n",
       "      <td>52.170000</td>\n",
       "      <td>68.620000</td>\n",
       "    </tr>\n",
       "    <tr>\n",
       "      <th>std</th>\n",
       "      <td>27.987752</td>\n",
       "      <td>28.918478</td>\n",
       "    </tr>\n",
       "    <tr>\n",
       "      <th>min</th>\n",
       "      <td>1.000000</td>\n",
       "      <td>5.000000</td>\n",
       "    </tr>\n",
       "    <tr>\n",
       "      <th>25%</th>\n",
       "      <td>31.750000</td>\n",
       "      <td>49.750000</td>\n",
       "    </tr>\n",
       "    <tr>\n",
       "      <th>50%</th>\n",
       "      <td>52.000000</td>\n",
       "      <td>74.000000</td>\n",
       "    </tr>\n",
       "    <tr>\n",
       "      <th>75%</th>\n",
       "      <td>78.250000</td>\n",
       "      <td>95.000000</td>\n",
       "    </tr>\n",
       "    <tr>\n",
       "      <th>max</th>\n",
       "      <td>98.000000</td>\n",
       "      <td>100.000000</td>\n",
       "    </tr>\n",
       "  </tbody>\n",
       "</table>\n",
       "</div>"
      ],
      "text/plain": [
       "          realism  acceptability\n",
       "count  100.000000     100.000000\n",
       "mean    52.170000      68.620000\n",
       "std     27.987752      28.918478\n",
       "min      1.000000       5.000000\n",
       "25%     31.750000      49.750000\n",
       "50%     52.000000      74.000000\n",
       "75%     78.250000      95.000000\n",
       "max     98.000000     100.000000"
      ]
     },
     "execution_count": 1,
     "metadata": {},
     "output_type": "execute_result"
    }
   ],
   "source": [
    "import pandas as pd\n",
    "df = pd.read_csv('datasets/Question3_3.txt', sep=\"\\t\", header=0)\n",
    "df.describe()"
   ]
  },
  {
   "cell_type": "markdown",
   "metadata": {},
   "source": [
    "##### Make an appropriate plot of the data and explain why this is appropriate (2 pts.)"
   ]
  },
  {
   "cell_type": "code",
   "execution_count": 2,
   "metadata": {},
   "outputs": [
    {
     "data": {
      "image/png": "[encoded data removed]",
      "text/plain": [
       "<Figure size 640x480 with 1 Axes>"
      ]
     },
     "metadata": {},
     "output_type": "display_data"
    }
   ],
   "source": [
    "import matplotlib.pyplot as plt\n",
    "plt.scatter(x=df['realism'], y=df['acceptability'])\n",
    "plt.title('Acceptance of robots in function of its realism')\n",
    "plt.xlabel('Realism degree')\n",
    "plt.ylabel('Acceptability')\n",
    "plt.show()"
   ]
  },
  {
   "cell_type": "markdown",
   "metadata": {},
   "source": [
    "I chose for a scatterplot because it very clearly shows a pattern for the dataset. If the degree of realism of the robots is near the edges of the range of the dataset, then the acceptance rate seems so be low. However, as the degree of realism goes to the center, the acceptance rate will increase. In some cases to even $100%$"
   ]
  },
  {
   "cell_type": "markdown",
   "metadata": {},
   "source": [
    "##### Test for correlation between the independent and dependent variable. Pay attention to significance and effect size. Explain what you did and why. (3pts.)"
   ]
  },
  {
   "cell_type": "markdown",
   "metadata": {},
   "source": [
    "Since realism is the independant variable and acceptability is the dependant variable, we can use Pearson's correlation coefficient to est the corrolation. However since the scatterplot showed us an upside down U-shape, we might not want to use Pearson's correlation coefficient because it assumes a linear relationship, which is not the case. Instead we can use Spearman's Rank Correlation Coefficient or Kendall's Tau"
   ]
  },
  {
   "cell_type": "code",
   "execution_count": 3,
   "metadata": {},
   "outputs": [
    {
     "name": "stdout",
     "output_type": "stream",
     "text": [
      "Spearman's Rank Correlation Coefficient: statistic: -0.11914098563172112, p-value: 0.2377451882707497\n"
     ]
    }
   ],
   "source": [
    "from scipy.stats import spearmanr\n",
    "r = spearmanr(df['realism'], df['acceptability'])\n",
    "print(f\"Spearman's Rank Correlation Coefficient: statistic: {r.statistic}, p-value: {r.pvalue}\")"
   ]
  },
  {
   "cell_type": "code",
   "execution_count": 7,
   "metadata": {},
   "outputs": [
    {
     "name": "stdout",
     "output_type": "stream",
     "text": [
      "Kendall Tau's: statistic: -0.08680620478207834, p-value: 0.206302040667237\n"
     ]
    }
   ],
   "source": [
    "from scipy.stats import kendalltau\n",
    "kendalls = kendalltau(df[\"realism\"], df[\"acceptability\"])\n",
    "print(f\"Kendall Tau's: statistic: {kendalls.statistic}, p-value: {kendalls.pvalue}\")"
   ]
  }
 ],
 "metadata": {
  "kernelspec": {
   "display_name": "venv",
   "language": "python",
   "name": "python3"
  },
  "language_info": {
   "codemirror_mode": {
    "name": "ipython",
    "version": 3
   },
   "file_extension": ".py",
   "mimetype": "text/x-python",
   "name": "python",
   "nbconvert_exporter": "python",
   "pygments_lexer": "ipython3",
   "version": "3.12.0"
  }
 },
 "nbformat": 4,
 "nbformat_minor": 2
}
