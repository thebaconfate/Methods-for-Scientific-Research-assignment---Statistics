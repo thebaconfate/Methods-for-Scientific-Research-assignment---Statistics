{
 "cells": [
  {
   "cell_type": "code",
   "execution_count": 1,
   "metadata": {},
   "outputs": [
    {
     "name": "stdout",
     "output_type": "stream",
     "text": [
      "Sample Size: 64\n"
     ]
    }
   ],
   "source": [
    "from statsmodels.stats.power import TTestIndPower\n",
    "from math import ceil\n",
    "power_analysis = TTestIndPower()\n",
    "sample_size = ceil(power_analysis.solve_power(effect_size=0.5, power=0.8, alpha=0.05))\n",
    "print(f'Sample Size: {sample_size}')"
   ]
  },
  {
   "cell_type": "code",
   "execution_count": 2,
   "metadata": {},
   "outputs": [
    {
     "name": "stdout",
     "output_type": "stream",
     "text": [
      "[0, 1, 2, 3, 4, 5, 6, 7, 8, 9, 10, 11, 12, 13, 14, 15, 16, 17, 18, 19, 20, 21, 22, 23, 24, 25, 26, 27, 28, 29, 30, 31, 32, 33, 34, 35, 36, 37, 38, 39, 40, 41, 42, 43, 44, 45, 46, 47, 48, 49, 50, 51, 52, 53, 54, 55, 56, 57, 58, 59, 60, 61, 62, 63]\n"
     ]
    }
   ],
   "source": [
    "sample = [_ for _ in range(sample_size)]\n",
    "print(f'{sample}')"
   ]
  },
  {
   "cell_type": "code",
   "execution_count": 6,
   "metadata": {},
   "outputs": [
    {
     "name": "stdout",
     "output_type": "stream",
     "text": [
      "Received --> 0.23366773349391123\n",
      "Received --> 0.03722292988379561\n",
      "Received --> 0.383932446165838\n",
      "Received --> 0.02926422706953713\n",
      "Received --> 0.03110523884580718\n",
      "Received --> 0.3702443852626327\n",
      "Received --> 0.12287659726041489\n",
      "Received --> 0.7668105792725579\n",
      "Received --> 0.050869210682569665\n",
      "Received --> 0.811966142443276\n",
      "Received --> 0.512221561958534\n",
      "Received --> 0.08243325453524974\n",
      "Received --> 0.10874304562572734\n",
      "Received --> 0.8441113361824752\n",
      "Received --> 0.032049930719137754\n",
      "Received --> 0.25309130695174853\n",
      "Received --> 0.16253762133120286\n",
      "Received --> 0.7199702868846021\n",
      "Received --> 0.05689357664622796\n",
      "Received --> 0.07782366257479767\n"
     ]
    }
   ],
   "source": [
    "from multiprocessing.pool import ThreadPool as Pool\n",
    "import random\n",
    "import os\n",
    "def test():\n",
    "    PROCESSES = 4\n",
    "    print('Creating pool with %d processes\\n' % PROCESSES)\n",
    "\n",
    "def generate_values_for_parallel(max: int):\n",
    "    for _ in range(0, max):\n",
    "        yield random.random()\n",
    "\n",
    "\n",
    "def parallel_unit(arg) -> list[int]:\n",
    "    return \"Received --> \" + str(arg)\n",
    "\n",
    "\n",
    "if __name__ == '__main__':\n",
    "    result = []\n",
    "    pool = Pool(processes=4)\n",
    "    for loop_result in pool.imap_unordered(parallel_unit, generate_values_for_parallel(20), 10*os.cpu_count()):\n",
    "        result.append(loop_result)\n",
    "    pool.close()\n",
    "    pool.join()\n",
    "    print(\"\\n\".join(result))"
   ]
  }
 ],
 "metadata": {
  "kernelspec": {
   "display_name": "venv",
   "language": "python",
   "name": "python3"
  },
  "language_info": {
   "codemirror_mode": {
    "name": "ipython",
    "version": 3
   },
   "file_extension": ".py",
   "mimetype": "text/x-python",
   "name": "python",
   "nbconvert_exporter": "python",
   "pygments_lexer": "ipython3",
   "version": "3.12.0"
  }
 },
 "nbformat": 4,
 "nbformat_minor": 2
}
